{
 "cells": [
  {
   "cell_type": "markdown",
   "id": "9a991914",
   "metadata": {},
   "source": [
    "# Running an ESPy calculation\n",
    "In this tutorial, we will run several calculations using the ```Elastic_stresses_py``` library:\n",
    "1. We will run a calculation using the command line and configuration/inputs through text files. \n",
    "2. We will run a calculation modifying the inputs using the Python API. "
   ]
  },
  {
   "cell_type": "markdown",
   "id": "52a506e2",
   "metadata": {},
   "source": [
    "## Command line API\n",
    "The basic usage of ```Elastic_stresses_py``` is through the command line.  We could first create an empty config file in the current directory (```.```) with: "
   ]
  },
  {
   "cell_type": "code",
   "execution_count": 9,
   "id": "909663aa",
   "metadata": {},
   "outputs": [
    {
     "name": "stdout",
     "output_type": "stream",
     "text": [
      "\n",
      "Write a default config file for elastic_stresses_py. \n",
      "Writing file . /my_config.txt\n"
     ]
    }
   ],
   "source": [
    "!elastic_stresses_config_writer.py ."
   ]
  },
  {
   "cell_type": "markdown",
   "id": "a5185464",
   "metadata": {},
   "source": [
    "You can check out the contents of this default config file. Remember that in a general case, the values and filepaths in this config file will need to be changed for your specific application. This file can be edited in a text editor.  For now, the values are good and we can move on to running the example calculation: "
   ]
  },
  {
   "cell_type": "code",
   "execution_count": 10,
   "id": "8dbb24b9",
   "metadata": {},
   "outputs": [
    {
     "name": "stdout",
     "output_type": "stream",
     "text": [
      "\n",
      "\n",
      "Welcome to a simple forward modeling tool for calculating elastic displacements and coulomb stresses. \n",
      "Config file:  my_config.txt\n",
      "Params(config_file='my_config.txt', input_file='M6.8_2014.intxt', aftershocks='CA_aftershocks_2014.txt', disp_points_file='CA_GPS_ll.txt', strain_file='', strike_num_receivers=10, dip_num_receivers=10, fixed_rake='', mu=30000000000.0, lame1=30000000000.0, B=0.0, alpha=0.6666666666666666, plot_stress=1, plot_grd_disp=1, outdir='Outputs/my_experiment/')\n",
      "Reading source and receiver fault information from file M6.8_2014.intxt \n",
      "Reading displacement points from file CA_GPS_ll.txt \n",
      "Number of sources: 1\n",
      "Moment Magnitude from Rectangular Fault Patches (assuming G=30.0GPa): 6.800000\n",
      "Beginning stress calculation.\n",
      "Number of sources: 1 \n",
      "Number of receivers: 1 \n",
      "Splitting 1 receiver faults into 100 subfaults each.\n",
      "Computing synthetic grid of dispalcements\n",
      "Number of disp_points: 105\n",
      "Resolving stresses on receiver fault(s).\n",
      "Resolving stresses on a horizontal profile.\n",
      "Writing file Outputs/my_experiment/used_config.txt \n",
      "Writing Outputs/my_experiment/ll_disps.txt \n",
      "Writing Outputs/my_experiment/receiver_traces.txt\n",
      "Writing outfile Outputs/my_experiment/subfaulted.inp \n",
      "Reading aftershocks from file CA_aftershocks_2014.txt \n",
      "Writing file Outputs/my_experiment/stresses_full.txt \n",
      "Making plot of shear stress on receiver fault patches: Outputs/my_experiment/Stresses_shear.png. \n",
      "Making plot of normal stress on receiver fault patches: Outputs/my_experiment/Stresses_normal.png. \n",
      "Making plot of coulomb stress on receiver fault patches: Outputs/my_experiment/Stresses_coulomb.png. \n",
      "Reading aftershocks from file CA_aftershocks_2014.txt \n",
      "Reading aftershocks from file CA_aftershocks_2014.txt \n",
      "Reading aftershocks from file CA_aftershocks_2014.txt \n",
      "Making plot of coulomb stress on receiver fault patches: Outputs/my_experiment/Stresses_cross_section_coulomb.png. \n",
      "Writing file Outputs/my_experiment/coulomb_xsection.txt\n",
      "Making plot of normal stress on receiver fault patches: Outputs/my_experiment/Stresses_cross_section_normal.png. \n",
      "Making plot of shear stress on receiver fault patches: Outputs/my_experiment/Stresses_cross_section_shear.png. \n",
      "Writing synthetic grid of displacements in Outputs/my_experiment/disps_model_grid.txt \n",
      "Making plot of predicted displacement throughout model domain.\n",
      "Max vertical displacement is 0.032031 m\n",
      "Printing vert.grd\n",
      "Printing east.grd\n",
      "Printing north.grd\n",
      "Mapping vertical deformation in Outputs/my_experiment/vertical_map.png \n",
      "Reading aftershocks from file CA_aftershocks_2014.txt \n",
      "Writing Outputs/my_experiment/stresses_horiz_profile.txt \n"
     ]
    }
   ],
   "source": [
    "!elastic_stresses_driver.py my_config.txt"
   ]
  },
  {
   "cell_type": "markdown",
   "id": "7914502d",
   "metadata": {},
   "source": [
    "Now you can check out the results. You calcualted a set of displacements and stresses from a hypothetical M6.8 earthquake at 16.4 km depth offshore northern California. The input format within ```M6.8_2014.intxt``` was the **Source_WC** format, which means a rectangular dislocation with dimensions calculated from Wells and Coppersmith (1994). "
   ]
  },
  {
   "cell_type": "markdown",
   "id": "552d96e4",
   "metadata": {},
   "source": [
    "## Python API"
   ]
  },
  {
   "cell_type": "markdown",
   "id": "39c21dda",
   "metadata": {},
   "source": [
    "Now, let's say you wanted to create a different earthquake source: let's say you wanted to change the depth from 16 to 0.  Let's also say you wanted to change the output directory so you don't overwrite the original experiment results. We're going to do this by modifying the input and configuration parameter objects through the Python API that ```Elastic_stresses_py``` is actually using on the inside. \n",
    "\n",
    "We calculate in 4 steps: \n",
    "1. Configure\n",
    "2. Input\n",
    "3. Compute\n",
    "4. Output\n",
    "\n",
    "If you open the ```elastic_stresses_driver.py``` script, you'll see them expressed in this way: \n",
    "```\n",
    "params = PyCoulomb.configure_calc.configure_stress_calculation(config_file);\n",
    "[inputs, obs_disp_points, obs_strain_points] = PyCoulomb.input_values.read_inputs(params);\n",
    "out_object = PyCoulomb.run_dc3d.do_stress_computation(params, inputs, obs_disp_points, obs_strain_points);\n",
    "PyCoulomb.output_manager.produce_outputs(params, inputs, obs_disp_points, obs_strain_points, out_object);\n",
    "```\n",
    "\n",
    "In this API example, we're just running the steps one-by-one instead of all at once.  \"Configure\" and \"Input\" will be modified with modification functions.  \"Compute\" and \"Output\" will remain the same as usual. "
   ]
  },
  {
   "cell_type": "markdown",
   "id": "2c7a2a2e",
   "metadata": {},
   "source": [
    "### Step 1: Configure\n",
    "We begin by executing the normal \"Configure\" step: Reading a config file into an object type called ```Params```. "
   ]
  },
  {
   "cell_type": "code",
   "execution_count": 1,
   "id": "624373f4",
   "metadata": {},
   "outputs": [
    {
     "name": "stdout",
     "output_type": "stream",
     "text": [
      "Config file:  my_config.txt\n",
      "Params(config_file='my_config.txt', input_file='M6.8_2014.intxt', aftershocks='CA_aftershocks_2014.txt', disp_points_file='CA_GPS_ll.txt', strain_file='', strike_num_receivers=10, dip_num_receivers=10, fixed_rake='', mu=30000000000.0, lame1=30000000000.0, B=0.0, alpha=0.6666666666666666, plot_stress=1, plot_grd_disp=1, outdir='Outputs/my_experiment/')\n"
     ]
    }
   ],
   "source": [
    "from Elastic_stresses_py import PyCoulomb\n",
    "\n",
    "# Create deafult Params object from the configuration file\n",
    "default_params = PyCoulomb.configure_calc.configure_stress_calculation(\"my_config.txt\");"
   ]
  },
  {
   "cell_type": "markdown",
   "id": "8525645b",
   "metadata": {},
   "source": [
    "We next modify the Params object to direct our outputs into a different output folder, one that represents the modified geometry.  "
   ]
  },
  {
   "cell_type": "code",
   "execution_count": 2,
   "id": "0e428703",
   "metadata": {},
   "outputs": [
    {
     "name": "stdout",
     "output_type": "stream",
     "text": [
      "Old experiment outdir: Outputs/my_experiment/\n",
      "New experiment outdir: Outputs/depth_0/\n"
     ]
    }
   ],
   "source": [
    "# Modify the parameter object: Replace params.outdir with new outdir\n",
    "\n",
    "print(\"Old experiment outdir:\", default_params.outdir);\n",
    "experiment_params = PyCoulomb.configure_calc.modify_params_object(default_params, outdir=\"Outputs/depth_0/\");\n",
    "print(\"New experiment outdir:\", experiment_params.outdir);\n"
   ]
  },
  {
   "cell_type": "markdown",
   "id": "bfc0e009",
   "metadata": {},
   "source": [
    "### Step 2: Input\n",
    "We then execute the normal input phase, reading an input file (```M6.8_2014.intxt```) into an object type called ```Input_object```. Optional objects for gps displacement points (```obs_disp_points```) and/or strain calculation points (not used here) are also created. "
   ]
  },
  {
   "cell_type": "code",
   "execution_count": 3,
   "id": "ebab2081",
   "metadata": {},
   "outputs": [
    {
     "name": "stdout",
     "output_type": "stream",
     "text": [
      "Reading source and receiver fault information from file M6.8_2014.intxt \n",
      "Reading displacement points from file CA_GPS_ll.txt \n",
      "Number of sources: 1\n",
      "Moment Magnitude from Rectangular Fault Patches (assuming G=30.0GPa): 6.800000\n"
     ]
    }
   ],
   "source": [
    "# Read inputs like normal.  default_inputs = \"Input_object\"\n",
    "\n",
    "[default_inputs, obs_disp_points, _] = PyCoulomb.input_values.read_inputs(experiment_params);"
   ]
  },
  {
   "cell_type": "markdown",
   "id": "723a190f",
   "metadata": {},
   "source": [
    "Then we modify the source within the input object.  **NOTE: THIS IS STILL BEING DEVELOPED**.  It may be possible to create unrealistic scenarios (e.g., change the ratio of rtlat/reverse slip of a source but not the rake; change the top of a source but not the bottom, change the strike of a source but not the xstart/xfinish). Until this gets fully vetted, be very careful."
   ]
  },
  {
   "cell_type": "code",
   "execution_count": 8,
   "id": "6b386e6f",
   "metadata": {},
   "outputs": [],
   "source": [
    "# Modify the single source in this object\n",
    "original_source = default_inputs.source_object[0];  # extract the source\n",
    "modified_source = PyCoulomb.configure_calc.modify_fault_object(original_source, top=0, bottom=12);  # adjust depth\n",
    "inputs = PyCoulomb.configure_calc.modify_inputs_object(default_inputs, source_object=[modified_source]);  # package with new source"
   ]
  },
  {
   "cell_type": "markdown",
   "id": "b681d46d",
   "metadata": {},
   "source": [
    "### Step 3 and Step 4: Compute, Output\n",
    "Now we are ready to execute the calculation like normal. "
   ]
  },
  {
   "cell_type": "code",
   "execution_count": 5,
   "id": "5bf119b0",
   "metadata": {},
   "outputs": [
    {
     "name": "stdout",
     "output_type": "stream",
     "text": [
      "Beginning stress calculation.\n",
      "Number of sources: 1 \n",
      "Number of receivers: 1 \n",
      "Splitting 1 receiver faults into 100 subfaults each.\n",
      "Computing synthetic grid of dispalcements\n",
      "Number of disp_points: 105\n",
      "Resolving stresses on receiver fault(s).\n",
      "Resolving stresses on a horizontal profile.\n",
      "Writing file Outputs/depth_0/used_config.txt \n",
      "Writing Outputs/depth_0/ll_disps.txt \n",
      "Writing Outputs/depth_0/receiver_traces.txt\n",
      "Writing outfile Outputs/depth_0/subfaulted.inp \n",
      "Reading aftershocks from file CA_aftershocks_2014.txt \n",
      "Writing file Outputs/depth_0/stresses_full.txt \n",
      "Making plot of shear stress on receiver fault patches: Outputs/depth_0/Stresses_shear.png. \n",
      "Making plot of normal stress on receiver fault patches: Outputs/depth_0/Stresses_normal.png. \n",
      "Making plot of coulomb stress on receiver fault patches: Outputs/depth_0/Stresses_coulomb.png. \n",
      "Reading aftershocks from file CA_aftershocks_2014.txt \n",
      "Reading aftershocks from file CA_aftershocks_2014.txt \n",
      "Reading aftershocks from file CA_aftershocks_2014.txt \n",
      "Making plot of coulomb stress on receiver fault patches: Outputs/depth_0/Stresses_cross_section_coulomb.png. \n",
      "Writing file Outputs/depth_0/coulomb_xsection.txt\n",
      "Making plot of normal stress on receiver fault patches: Outputs/depth_0/Stresses_cross_section_normal.png. \n",
      "Making plot of shear stress on receiver fault patches: Outputs/depth_0/Stresses_cross_section_shear.png. \n",
      "Writing synthetic grid of displacements in Outputs/depth_0/disps_model_grid.txt \n",
      "Making plot of predicted displacement throughout model domain.\n",
      "Max vertical displacement is 0.094943 m\n",
      "Printing vert.grd\n",
      "Printing east.grd\n",
      "Printing north.grd\n",
      "Mapping vertical deformation in Outputs/depth_0/vertical_map.png \n",
      "Reading aftershocks from file CA_aftershocks_2014.txt \n",
      "Writing Outputs/depth_0/stresses_horiz_profile.txt \n"
     ]
    },
    {
     "data": {
      "image/png": "[encoded data removed]",
      "text/plain": [
       "<Figure size 1224x576 with 2 Axes>"
      ]
     },
     "metadata": {
      "needs_background": "light"
     },
     "output_type": "display_data"
    }
   ],
   "source": [
    "out_object = PyCoulomb.run_dc3d.do_stress_computation(experiment_params, inputs, obs_disp_points, ());\n",
    "PyCoulomb.output_manager.produce_outputs(experiment_params, inputs, obs_disp_points, (), out_object);"
   ]
  },
  {
   "cell_type": "markdown",
   "id": "7e2cbfdc",
   "metadata": {},
   "source": [
    "Notice the differences between the plots in the first example and the second example.  The stresses on this profile are much higher at a depth of 1 km because the source is extremely close. You can see singularities at the corners because this calculation depth is very close to the depth of the fault corners. There are also larger displacements in both horizontal and vertical due to the reduced depth of the source. Some of the stresses on the receiver faults change sign due to the change in source depth. "
   ]
  },
  {
   "cell_type": "code",
   "execution_count": null,
   "id": "32ebfe0d",
   "metadata": {},
   "outputs": [],
   "source": []
  }
 ],
 "metadata": {
  "kernelspec": {
   "display_name": "Python 3",
   "language": "python",
   "name": "python3"
  },
  "language_info": {
   "codemirror_mode": {
    "name": "ipython",
    "version": 3
   },
   "file_extension": ".py",
   "mimetype": "text/x-python",
   "name": "python",
   "nbconvert_exporter": "python",
   "pygments_lexer": "ipython3",
   "version": "3.7.12"
  }
 },
 "nbformat": 4,
 "nbformat_minor": 5
}
